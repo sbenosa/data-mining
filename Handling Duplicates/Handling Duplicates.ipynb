{
 "cells": [
  {
   "cell_type": "markdown",
   "metadata": {},
   "source": [
    "# REMOVING DUPLICATES"
   ]
  },
  {
   "cell_type": "code",
   "execution_count": 13,
   "metadata": {},
   "outputs": [
    {
     "data": {
      "text/html": [
       "<div>\n",
       "<style scoped>\n",
       "    .dataframe tbody tr th:only-of-type {\n",
       "        vertical-align: middle;\n",
       "    }\n",
       "\n",
       "    .dataframe tbody tr th {\n",
       "        vertical-align: top;\n",
       "    }\n",
       "\n",
       "    .dataframe thead th {\n",
       "        text-align: right;\n",
       "    }\n",
       "</style>\n",
       "<table border=\"1\" class=\"dataframe\">\n",
       "  <thead>\n",
       "    <tr style=\"text-align: right;\">\n",
       "      <th></th>\n",
       "      <th>Age</th>\n",
       "      <th>Name</th>\n",
       "      <th>Occupation</th>\n",
       "      <th>Sex</th>\n",
       "    </tr>\n",
       "  </thead>\n",
       "  <tbody>\n",
       "    <tr>\n",
       "      <th>0</th>\n",
       "      <td>24</td>\n",
       "      <td>James</td>\n",
       "      <td>Town Mayor</td>\n",
       "      <td>Male</td>\n",
       "    </tr>\n",
       "    <tr>\n",
       "      <th>1</th>\n",
       "      <td>28</td>\n",
       "      <td>Alice</td>\n",
       "      <td>Housewife</td>\n",
       "      <td>Female</td>\n",
       "    </tr>\n",
       "    <tr>\n",
       "      <th>2</th>\n",
       "      <td>40</td>\n",
       "      <td>Phil</td>\n",
       "      <td>Fisherman</td>\n",
       "      <td>Male</td>\n",
       "    </tr>\n",
       "    <tr>\n",
       "      <th>3</th>\n",
       "      <td>24</td>\n",
       "      <td>James</td>\n",
       "      <td>Town Mayor</td>\n",
       "      <td>Male</td>\n",
       "    </tr>\n",
       "  </tbody>\n",
       "</table>\n",
       "</div>"
      ],
      "text/plain": [
       "   Age   Name  Occupation     Sex\n",
       "0   24  James  Town Mayor    Male\n",
       "1   28  Alice   Housewife  Female\n",
       "2   40   Phil   Fisherman    Male\n",
       "3   24  James  Town Mayor    Male"
      ]
     },
     "execution_count": 13,
     "metadata": {},
     "output_type": "execute_result"
    }
   ],
   "source": [
    "import pandas as pd\n",
    "data = {\"Name\": [\"James\", \"Alice\", \"Phil\", \"James\"],\n",
    "\t\t\"Age\": [24, 28, 40, 24],\n",
    "\t\t\"Sex\": [\"Male\", \"Female\", \"Male\", \"Male\"],\n",
    "       \"Occupation\":['Town Mayor','Housewife','Fisherman','Town Mayor']}\n",
    "dataset = pd.DataFrame(data)\n",
    "dataset"
   ]
  },
  {
   "cell_type": "markdown",
   "metadata": {},
   "source": [
    "## DROP DUPLICATE ROWS\n",
    "drop_duplicates returns only the dataframe’s unique values. The drop_duplicates() returns only the dataframe’s unique values. In the sample below, James is duplicate where all records on each cloumn are the same"
   ]
  },
  {
   "cell_type": "code",
   "execution_count": 14,
   "metadata": {},
   "outputs": [
    {
     "name": "stdout",
     "output_type": "stream",
     "text": [
      "   Age   Name  Occupation     Sex\n",
      "0   24  James  Town Mayor    Male\n",
      "1   28  Alice   Housewife  Female\n",
      "2   40   Phil   Fisherman    Male\n",
      "\n",
      "   Age   Name  Occupation     Sex\n",
      "0   24  James  Town Mayor    Male\n",
      "1   28  Alice   Housewife  Female\n",
      "2   40   Phil   Fisherman    Male\n",
      "3   24  James  Town Mayor    Male\n"
     ]
    }
   ],
   "source": [
    "df = dataset.drop_duplicates()\n",
    "print(df)\n",
    "print()\n",
    "print(dataset)"
   ]
  },
  {
   "cell_type": "markdown",
   "metadata": {},
   "source": [
    "## REMOVE DUPLICATE BASE ON SUBSET (COLUMN)\n",
    "To remove duplicates of only one or a subset of columns, specify subset as the individual column or list of columns that should be unique. To do this conditional on a different column’s value, you can sort_values(colname) and specify keep equals either first or last."
   ]
  },
  {
   "cell_type": "code",
   "execution_count": 17,
   "metadata": {
    "scrolled": true
   },
   "outputs": [
    {
     "data": {
      "text/html": [
       "<div>\n",
       "<style scoped>\n",
       "    .dataframe tbody tr th:only-of-type {\n",
       "        vertical-align: middle;\n",
       "    }\n",
       "\n",
       "    .dataframe tbody tr th {\n",
       "        vertical-align: top;\n",
       "    }\n",
       "\n",
       "    .dataframe thead th {\n",
       "        text-align: right;\n",
       "    }\n",
       "</style>\n",
       "<table border=\"1\" class=\"dataframe\">\n",
       "  <thead>\n",
       "    <tr style=\"text-align: right;\">\n",
       "      <th></th>\n",
       "      <th>Age</th>\n",
       "      <th>Name</th>\n",
       "      <th>Occupation</th>\n",
       "      <th>Sex</th>\n",
       "    </tr>\n",
       "  </thead>\n",
       "  <tbody>\n",
       "    <tr>\n",
       "      <th>0</th>\n",
       "      <td>24</td>\n",
       "      <td>James</td>\n",
       "      <td>Town Mayor</td>\n",
       "      <td>Male</td>\n",
       "    </tr>\n",
       "    <tr>\n",
       "      <th>1</th>\n",
       "      <td>28</td>\n",
       "      <td>Alice</td>\n",
       "      <td>Housewife</td>\n",
       "      <td>Female</td>\n",
       "    </tr>\n",
       "    <tr>\n",
       "      <th>2</th>\n",
       "      <td>40</td>\n",
       "      <td>Phil</td>\n",
       "      <td>Fisherman</td>\n",
       "      <td>Male</td>\n",
       "    </tr>\n",
       "    <tr>\n",
       "      <th>3</th>\n",
       "      <td>25</td>\n",
       "      <td>James</td>\n",
       "      <td>Town Mayor</td>\n",
       "      <td>Male</td>\n",
       "    </tr>\n",
       "  </tbody>\n",
       "</table>\n",
       "</div>"
      ],
      "text/plain": [
       "   Age   Name  Occupation     Sex\n",
       "0   24  James  Town Mayor    Male\n",
       "1   28  Alice   Housewife  Female\n",
       "2   40   Phil   Fisherman    Male\n",
       "3   25  James  Town Mayor    Male"
      ]
     },
     "execution_count": 17,
     "metadata": {},
     "output_type": "execute_result"
    }
   ],
   "source": [
    "import pandas as pd\n",
    "data = {\"Name\": [\"James\", \"Alice\", \"Phil\", \"James\"],\n",
    "\t\t\"Age\": [24, 28, 40, 25],\n",
    "\t\t\"Sex\": [\"Male\", \"Female\", \"Male\", \"Male\"],\n",
    "       \"Occupation\":['Town Mayor','Housewife','Fisherman','Town Mayor']}\n",
    "dataset = pd.DataFrame(data)\n",
    "dataset"
   ]
  },
  {
   "cell_type": "markdown",
   "metadata": {},
   "source": [
    "If we use the drop_duplicates() function, James will still have two entries since the age is still different on each record. "
   ]
  },
  {
   "cell_type": "code",
   "execution_count": 19,
   "metadata": {},
   "outputs": [
    {
     "name": "stdout",
     "output_type": "stream",
     "text": [
      "   Age   Name  Occupation     Sex\n",
      "2   40   Phil   Fisherman    Male\n",
      "1   28  Alice   Housewife  Female\n",
      "3   25  James  Town Mayor    Male\n"
     ]
    }
   ],
   "source": [
    "df = dataset.sort_values('Age', ascending=False)\n",
    "df = df.drop_duplicates(subset='Name', keep='first')\n",
    "print(df)"
   ]
  },
  {
   "cell_type": "markdown",
   "metadata": {},
   "source": [
    "## FINDING DUPLICATES\n",
    "Python for Data Analysis, defines Data Preparation as “cleaning, munging, combining, normalizing, reshaping, slicing, dicing, and transforming data for analysis.”"
   ]
  },
  {
   "cell_type": "code",
   "execution_count": 45,
   "metadata": {},
   "outputs": [
    {
     "data": {
      "text/html": [
       "<div>\n",
       "<style scoped>\n",
       "    .dataframe tbody tr th:only-of-type {\n",
       "        vertical-align: middle;\n",
       "    }\n",
       "\n",
       "    .dataframe tbody tr th {\n",
       "        vertical-align: top;\n",
       "    }\n",
       "\n",
       "    .dataframe thead th {\n",
       "        text-align: right;\n",
       "    }\n",
       "</style>\n",
       "<table border=\"1\" class=\"dataframe\">\n",
       "  <thead>\n",
       "    <tr style=\"text-align: right;\">\n",
       "      <th></th>\n",
       "      <th>order_date</th>\n",
       "      <th>order_id</th>\n",
       "      <th>customer_name</th>\n",
       "      <th>order_item_cd</th>\n",
       "      <th>order_item_qty</th>\n",
       "      <th>order_item_price</th>\n",
       "    </tr>\n",
       "  </thead>\n",
       "  <tbody>\n",
       "    <tr>\n",
       "      <th>0</th>\n",
       "      <td>2019-01-01</td>\n",
       "      <td>342455670</td>\n",
       "      <td>Joel P. Laurel</td>\n",
       "      <td>IC53344</td>\n",
       "      <td>1</td>\n",
       "      <td>2.09</td>\n",
       "    </tr>\n",
       "    <tr>\n",
       "      <th>1</th>\n",
       "      <td>2019-01-01</td>\n",
       "      <td>342455670</td>\n",
       "      <td>Joel P. Laurel</td>\n",
       "      <td>I2T3344</td>\n",
       "      <td>3</td>\n",
       "      <td>12.22</td>\n",
       "    </tr>\n",
       "    <tr>\n",
       "      <th>2</th>\n",
       "      <td>2019-01-01</td>\n",
       "      <td>342455670</td>\n",
       "      <td>Joel P. Laurel</td>\n",
       "      <td>I2T3344</td>\n",
       "      <td>3</td>\n",
       "      <td>12.22</td>\n",
       "    </tr>\n",
       "    <tr>\n",
       "      <th>3</th>\n",
       "      <td>2019-01-01</td>\n",
       "      <td>342455670</td>\n",
       "      <td>Luis T. Quezon</td>\n",
       "      <td>IM5J601</td>\n",
       "      <td>1</td>\n",
       "      <td>12.22</td>\n",
       "    </tr>\n",
       "    <tr>\n",
       "      <th>4</th>\n",
       "      <td>2019-01-02</td>\n",
       "      <td>352455677</td>\n",
       "      <td>Kaleb S. Pablo</td>\n",
       "      <td>I2T31124</td>\n",
       "      <td>3</td>\n",
       "      <td>6.29</td>\n",
       "    </tr>\n",
       "  </tbody>\n",
       "</table>\n",
       "</div>"
      ],
      "text/plain": [
       "   order_date   order_id   customer_name order_item_cd  order_item_qty  \\\n",
       "0  2019-01-01  342455670  Joel P. Laurel       IC53344               1   \n",
       "1  2019-01-01  342455670  Joel P. Laurel       I2T3344               3   \n",
       "2  2019-01-01  342455670  Joel P. Laurel       I2T3344               3   \n",
       "3  2019-01-01  342455670  Luis T. Quezon       IM5J601               1   \n",
       "4  2019-01-02  352455677  Kaleb S. Pablo      I2T31124               3   \n",
       "\n",
       "   order_item_price  \n",
       "0              2.09  \n",
       "1             12.22  \n",
       "2             12.22  \n",
       "3             12.22  \n",
       "4              6.29  "
      ]
     },
     "execution_count": 45,
     "metadata": {},
     "output_type": "execute_result"
    }
   ],
   "source": [
    "import pandas as pd\n",
    "dataset = pd.read_csv('Order_20190115.csv')\n",
    "dataset.head()"
   ]
  },
  {
   "cell_type": "markdown",
   "metadata": {},
   "source": [
    "### CREATE NEW BOLEAN COLUMN"
   ]
  },
  {
   "cell_type": "code",
   "execution_count": 46,
   "metadata": {
    "scrolled": false
   },
   "outputs": [
    {
     "data": {
      "text/html": [
       "<div>\n",
       "<style scoped>\n",
       "    .dataframe tbody tr th:only-of-type {\n",
       "        vertical-align: middle;\n",
       "    }\n",
       "\n",
       "    .dataframe tbody tr th {\n",
       "        vertical-align: top;\n",
       "    }\n",
       "\n",
       "    .dataframe thead th {\n",
       "        text-align: right;\n",
       "    }\n",
       "</style>\n",
       "<table border=\"1\" class=\"dataframe\">\n",
       "  <thead>\n",
       "    <tr style=\"text-align: right;\">\n",
       "      <th></th>\n",
       "      <th>order_date</th>\n",
       "      <th>order_id</th>\n",
       "      <th>customer_name</th>\n",
       "      <th>order_item_cd</th>\n",
       "      <th>order_item_qty</th>\n",
       "      <th>order_item_price</th>\n",
       "      <th>is_duplicated</th>\n",
       "    </tr>\n",
       "  </thead>\n",
       "  <tbody>\n",
       "    <tr>\n",
       "      <th>0</th>\n",
       "      <td>2019-01-01</td>\n",
       "      <td>342455670</td>\n",
       "      <td>Joel P. Laurel</td>\n",
       "      <td>IC53344</td>\n",
       "      <td>1</td>\n",
       "      <td>2.09</td>\n",
       "      <td>False</td>\n",
       "    </tr>\n",
       "    <tr>\n",
       "      <th>1</th>\n",
       "      <td>2019-01-01</td>\n",
       "      <td>342455670</td>\n",
       "      <td>Joel P. Laurel</td>\n",
       "      <td>I2T3344</td>\n",
       "      <td>3</td>\n",
       "      <td>12.22</td>\n",
       "      <td>False</td>\n",
       "    </tr>\n",
       "    <tr>\n",
       "      <th>2</th>\n",
       "      <td>2019-01-01</td>\n",
       "      <td>342455670</td>\n",
       "      <td>Joel P. Laurel</td>\n",
       "      <td>I2T3344</td>\n",
       "      <td>3</td>\n",
       "      <td>12.22</td>\n",
       "      <td>True</td>\n",
       "    </tr>\n",
       "    <tr>\n",
       "      <th>3</th>\n",
       "      <td>2019-01-01</td>\n",
       "      <td>342455670</td>\n",
       "      <td>Luis T. Quezon</td>\n",
       "      <td>IM5J601</td>\n",
       "      <td>1</td>\n",
       "      <td>12.22</td>\n",
       "      <td>False</td>\n",
       "    </tr>\n",
       "    <tr>\n",
       "      <th>4</th>\n",
       "      <td>2019-01-02</td>\n",
       "      <td>352455677</td>\n",
       "      <td>Kaleb S. Pablo</td>\n",
       "      <td>I2T31124</td>\n",
       "      <td>3</td>\n",
       "      <td>6.29</td>\n",
       "      <td>False</td>\n",
       "    </tr>\n",
       "  </tbody>\n",
       "</table>\n",
       "</div>"
      ],
      "text/plain": [
       "   order_date   order_id   customer_name order_item_cd  order_item_qty  \\\n",
       "0  2019-01-01  342455670  Joel P. Laurel       IC53344               1   \n",
       "1  2019-01-01  342455670  Joel P. Laurel       I2T3344               3   \n",
       "2  2019-01-01  342455670  Joel P. Laurel       I2T3344               3   \n",
       "3  2019-01-01  342455670  Luis T. Quezon       IM5J601               1   \n",
       "4  2019-01-02  352455677  Kaleb S. Pablo      I2T31124               3   \n",
       "\n",
       "   order_item_price  is_duplicated  \n",
       "0              2.09          False  \n",
       "1             12.22          False  \n",
       "2             12.22           True  \n",
       "3             12.22          False  \n",
       "4              6.29          False  "
      ]
     },
     "execution_count": 46,
     "metadata": {},
     "output_type": "execute_result"
    }
   ],
   "source": [
    "dataset['is_duplicated'] = dataset.duplicated(['order_id', 'order_item_cd'])\n",
    "dataset.head()"
   ]
  },
  {
   "cell_type": "markdown",
   "metadata": {},
   "source": [
    "### CHECK THE MAGNITUDE \n",
    "Check how big of an issue for the duplictes. Sum up all of the rows that were marked as a duplicate. This will give the number of duplicate line items in the dataset."
   ]
  },
  {
   "cell_type": "code",
   "execution_count": 47,
   "metadata": {},
   "outputs": [
    {
     "data": {
      "text/plain": [
       "2"
      ]
     },
     "execution_count": 47,
     "metadata": {},
     "output_type": "execute_result"
    }
   ],
   "source": [
    "dataset['is_duplicated'].sum()"
   ]
  },
  {
   "cell_type": "markdown",
   "metadata": {},
   "source": [
    "### FILTER THE RECORDS "
   ]
  },
  {
   "cell_type": "code",
   "execution_count": 48,
   "metadata": {},
   "outputs": [
    {
     "data": {
      "text/html": [
       "<div>\n",
       "<style scoped>\n",
       "    .dataframe tbody tr th:only-of-type {\n",
       "        vertical-align: middle;\n",
       "    }\n",
       "\n",
       "    .dataframe tbody tr th {\n",
       "        vertical-align: top;\n",
       "    }\n",
       "\n",
       "    .dataframe thead th {\n",
       "        text-align: right;\n",
       "    }\n",
       "</style>\n",
       "<table border=\"1\" class=\"dataframe\">\n",
       "  <thead>\n",
       "    <tr style=\"text-align: right;\">\n",
       "      <th></th>\n",
       "      <th>order_date</th>\n",
       "      <th>order_id</th>\n",
       "      <th>customer_name</th>\n",
       "      <th>order_item_cd</th>\n",
       "      <th>order_item_qty</th>\n",
       "      <th>order_item_price</th>\n",
       "      <th>is_duplicated</th>\n",
       "    </tr>\n",
       "  </thead>\n",
       "  <tbody>\n",
       "    <tr>\n",
       "      <th>2</th>\n",
       "      <td>2019-01-01</td>\n",
       "      <td>342455670</td>\n",
       "      <td>Joel P. Laurel</td>\n",
       "      <td>I2T3344</td>\n",
       "      <td>3</td>\n",
       "      <td>12.22</td>\n",
       "      <td>True</td>\n",
       "    </tr>\n",
       "    <tr>\n",
       "      <th>8</th>\n",
       "      <td>2019-01-05</td>\n",
       "      <td>382457651</td>\n",
       "      <td>Sunji A. Que</td>\n",
       "      <td>IG5H601</td>\n",
       "      <td>1</td>\n",
       "      <td>14.67</td>\n",
       "      <td>True</td>\n",
       "    </tr>\n",
       "  </tbody>\n",
       "</table>\n",
       "</div>"
      ],
      "text/plain": [
       "   order_date   order_id   customer_name order_item_cd  order_item_qty  \\\n",
       "2  2019-01-01  342455670  Joel P. Laurel       I2T3344               3   \n",
       "8  2019-01-05  382457651    Sunji A. Que       IG5H601               1   \n",
       "\n",
       "   order_item_price  is_duplicated  \n",
       "2             12.22           True  \n",
       "8             14.67           True  "
      ]
     },
     "execution_count": 48,
     "metadata": {},
     "output_type": "execute_result"
    }
   ],
   "source": [
    "dataset[dataset.is_duplicated==True]"
   ]
  },
  {
   "cell_type": "markdown",
   "metadata": {},
   "source": [
    "### QUANTIFY THE DUPLICATE RECORDS \n",
    "Quantify the impact of duplicate line items in terms of over counted units sold"
   ]
  },
  {
   "cell_type": "code",
   "execution_count": 63,
   "metadata": {},
   "outputs": [
    {
     "data": {
      "text/plain": [
       "4"
      ]
     },
     "execution_count": 63,
     "metadata": {},
     "output_type": "execute_result"
    }
   ],
   "source": [
    "dataset[dataset['is_duplicated']].order_item_qty.sum()"
   ]
  },
  {
   "cell_type": "code",
   "execution_count": 64,
   "metadata": {},
   "outputs": [
    {
     "data": {
      "text/plain": [
       "51.330000000000005"
      ]
     },
     "execution_count": 64,
     "metadata": {},
     "output_type": "execute_result"
    }
   ],
   "source": [
    "dataset['line_item_total'] = dataset.order_item_qty * dataset.order_item_price\n",
    "dataset[dataset['is_duplicated']].line_item_total.sum()"
   ]
  },
  {
   "cell_type": "markdown",
   "metadata": {},
   "source": [
    "### SAVE THE GOOD"
   ]
  },
  {
   "cell_type": "code",
   "execution_count": 65,
   "metadata": {},
   "outputs": [
    {
     "data": {
      "text/html": [
       "<div>\n",
       "<style scoped>\n",
       "    .dataframe tbody tr th:only-of-type {\n",
       "        vertical-align: middle;\n",
       "    }\n",
       "\n",
       "    .dataframe tbody tr th {\n",
       "        vertical-align: top;\n",
       "    }\n",
       "\n",
       "    .dataframe thead th {\n",
       "        text-align: right;\n",
       "    }\n",
       "</style>\n",
       "<table border=\"1\" class=\"dataframe\">\n",
       "  <thead>\n",
       "    <tr style=\"text-align: right;\">\n",
       "      <th></th>\n",
       "      <th>order_date</th>\n",
       "      <th>order_id</th>\n",
       "      <th>customer_name</th>\n",
       "      <th>order_item_cd</th>\n",
       "      <th>order_item_qty</th>\n",
       "      <th>order_item_price</th>\n",
       "      <th>is_duplicated</th>\n",
       "      <th>line_item_total</th>\n",
       "    </tr>\n",
       "  </thead>\n",
       "  <tbody>\n",
       "    <tr>\n",
       "      <th>0</th>\n",
       "      <td>2019-01-01</td>\n",
       "      <td>342455670</td>\n",
       "      <td>Joel P. Laurel</td>\n",
       "      <td>IC53344</td>\n",
       "      <td>1</td>\n",
       "      <td>2.09</td>\n",
       "      <td>False</td>\n",
       "      <td>2.09</td>\n",
       "    </tr>\n",
       "    <tr>\n",
       "      <th>1</th>\n",
       "      <td>2019-01-01</td>\n",
       "      <td>342455670</td>\n",
       "      <td>Joel P. Laurel</td>\n",
       "      <td>I2T3344</td>\n",
       "      <td>3</td>\n",
       "      <td>12.22</td>\n",
       "      <td>False</td>\n",
       "      <td>36.66</td>\n",
       "    </tr>\n",
       "    <tr>\n",
       "      <th>3</th>\n",
       "      <td>2019-01-01</td>\n",
       "      <td>342455670</td>\n",
       "      <td>Luis T. Quezon</td>\n",
       "      <td>IM5J601</td>\n",
       "      <td>1</td>\n",
       "      <td>12.22</td>\n",
       "      <td>False</td>\n",
       "      <td>12.22</td>\n",
       "    </tr>\n",
       "    <tr>\n",
       "      <th>4</th>\n",
       "      <td>2019-01-02</td>\n",
       "      <td>352455677</td>\n",
       "      <td>Kaleb S. Pablo</td>\n",
       "      <td>I2T31124</td>\n",
       "      <td>3</td>\n",
       "      <td>6.29</td>\n",
       "      <td>False</td>\n",
       "      <td>18.87</td>\n",
       "    </tr>\n",
       "    <tr>\n",
       "      <th>5</th>\n",
       "      <td>2019-01-03</td>\n",
       "      <td>353325634</td>\n",
       "      <td>Joel P. Mateo</td>\n",
       "      <td>IQ52601</td>\n",
       "      <td>1</td>\n",
       "      <td>13.57</td>\n",
       "      <td>False</td>\n",
       "      <td>13.57</td>\n",
       "    </tr>\n",
       "    <tr>\n",
       "      <th>6</th>\n",
       "      <td>2019-01-04</td>\n",
       "      <td>367125512</td>\n",
       "      <td>Poji A. Sun</td>\n",
       "      <td>I2T3314</td>\n",
       "      <td>3</td>\n",
       "      <td>13.78</td>\n",
       "      <td>False</td>\n",
       "      <td>41.34</td>\n",
       "    </tr>\n",
       "    <tr>\n",
       "      <th>7</th>\n",
       "      <td>2019-01-05</td>\n",
       "      <td>382457651</td>\n",
       "      <td>Sunji A. Que</td>\n",
       "      <td>IG5H601</td>\n",
       "      <td>1</td>\n",
       "      <td>14.67</td>\n",
       "      <td>False</td>\n",
       "      <td>14.67</td>\n",
       "    </tr>\n",
       "  </tbody>\n",
       "</table>\n",
       "</div>"
      ],
      "text/plain": [
       "   order_date   order_id   customer_name order_item_cd  order_item_qty  \\\n",
       "0  2019-01-01  342455670  Joel P. Laurel       IC53344               1   \n",
       "1  2019-01-01  342455670  Joel P. Laurel       I2T3344               3   \n",
       "3  2019-01-01  342455670  Luis T. Quezon       IM5J601               1   \n",
       "4  2019-01-02  352455677  Kaleb S. Pablo      I2T31124               3   \n",
       "5  2019-01-03  353325634   Joel P. Mateo       IQ52601               1   \n",
       "6  2019-01-04  367125512     Poji A. Sun       I2T3314               3   \n",
       "7  2019-01-05  382457651    Sunji A. Que       IG5H601               1   \n",
       "\n",
       "   order_item_price  is_duplicated  line_item_total  \n",
       "0              2.09          False             2.09  \n",
       "1             12.22          False            36.66  \n",
       "3             12.22          False            12.22  \n",
       "4              6.29          False            18.87  \n",
       "5             13.57          False            13.57  \n",
       "6             13.78          False            41.34  \n",
       "7             14.67          False            14.67  "
      ]
     },
     "execution_count": 65,
     "metadata": {},
     "output_type": "execute_result"
    }
   ],
   "source": [
    "df_nodup = dataset.loc[dataset['is_duplicated'] == False]\n",
    "df_nodup"
   ]
  },
  {
   "cell_type": "markdown",
   "metadata": {},
   "source": [
    "### SANITY CHECK"
   ]
  },
  {
   "cell_type": "code",
   "execution_count": 66,
   "metadata": {},
   "outputs": [
    {
     "data": {
      "text/plain": [
       "0.0"
      ]
     },
     "execution_count": 66,
     "metadata": {},
     "output_type": "execute_result"
    }
   ],
   "source": [
    "df_nodup[df_nodup['is_duplicated']].line_item_total.sum()"
   ]
  },
  {
   "cell_type": "code",
   "execution_count": 67,
   "metadata": {},
   "outputs": [],
   "source": [
    "df_nodup.to_csv('2019sales_nodup.csv', encoding='utf-8')"
   ]
  },
  {
   "cell_type": "code",
   "execution_count": null,
   "metadata": {},
   "outputs": [],
   "source": []
  }
 ],
 "metadata": {
  "kernelspec": {
   "display_name": "Python 3",
   "language": "python",
   "name": "python3"
  },
  "language_info": {
   "codemirror_mode": {
    "name": "ipython",
    "version": 3
   },
   "file_extension": ".py",
   "mimetype": "text/x-python",
   "name": "python",
   "nbconvert_exporter": "python",
   "pygments_lexer": "ipython3",
   "version": "3.6.2"
  }
 },
 "nbformat": 4,
 "nbformat_minor": 1
}
